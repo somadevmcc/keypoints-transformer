{
 "cells": [
  {
   "cell_type": "code",
   "execution_count": 74,
   "metadata": {},
   "outputs": [],
   "source": [
    "import pandas as pd\n",
    "import numpy as np\n",
    "import ast\n",
    "import torch\n",
    "import torch.nn as nn\n",
    "import torch.optim as optim\n",
    "from sklearn.model_selection import train_test_split\n",
    "from sklearn.preprocessing import StandardScaler, LabelEncoder\n",
    "from torch.utils.data import DataLoader, TensorDataset"
   ]
  },
  {
   "cell_type": "code",
   "execution_count": 75,
   "metadata": {},
   "outputs": [],
   "source": [
    "# Cargar la base de datos\n",
    "ruta_archivo_csv = 'C:\\\\Users\\\\luisf\\\\Documents\\\\GitHub\\\\keypoints-transformer\\\\csvFinal.csv'\n",
    "df = pd.read_csv(ruta_archivo_csv)"
   ]
  },
  {
   "cell_type": "code",
   "execution_count": 76,
   "metadata": {},
   "outputs": [],
   "source": [
    "ruta_archivo_pickle = 'C:\\\\Users\\\\luisf\\\\Documents\\\\GitHub\\\\keypoints-transformer\\\\datasetMascaras.pkl'\n",
    "df = pd.read_pickle(ruta_archivo_pickle)"
   ]
  },
  {
   "cell_type": "code",
   "execution_count": 77,
   "metadata": {},
   "outputs": [],
   "source": [
    "# Convertir las cadenas de texto de las columnas en numpy arrays\n",
    "columns = ['nose', 'left_shoulder', 'right_shoulder', 'left_elbow', 'right_elbow', \n",
    "           'left_wrist', 'right_wrist', 'left_hip', 'right_hip', 'left_knee', \n",
    "           'right_knee', 'left_ankle', 'right_ankle', 'mid_shoulder', 'mid_hip']\n",
    "\n",
    "for column in columns:\n",
    "    df[column] = df[column].apply(lambda x: np.array(ast.literal_eval(x)))\n"
   ]
  },
  {
   "cell_type": "code",
   "execution_count": 78,
   "metadata": {},
   "outputs": [],
   "source": [
    "# Normalizar los keypoints\n",
    "scaler = StandardScaler()\n",
    "for column in columns:\n",
    "    keypoints = np.stack(df[column].values)  # Convertir la columna en un array 2D\n",
    "    keypoints_normalized = scaler.fit_transform(keypoints)  # Normalizar\n",
    "    df[column] = [arr for arr in keypoints_normalized]  # Convertir de nuevo en una lista de arrays"
   ]
  },
  {
   "cell_type": "code",
   "execution_count": 79,
   "metadata": {},
   "outputs": [],
   "source": [
    "\n",
    "# Eliminar la coordenada z de las primeras 13 columnas que tienen (x, y, z)\n",
    "for column in columns[:13]:\n",
    "    df[column] = df[column].apply(lambda x: x[:2])"
   ]
  },
  {
   "cell_type": "code",
   "execution_count": 80,
   "metadata": {},
   "outputs": [],
   "source": [
    "# Verificar que todas las filas tienen el mismo número de dimensiones\n",
    "for col in columns:\n",
    "    lengths = df[col].apply(len).unique()\n",
    "    if len(lengths) != 1:\n",
    "        df = df[df[col].apply(len) == lengths[0]]"
   ]
  },
  {
   "cell_type": "code",
   "execution_count": 81,
   "metadata": {},
   "outputs": [],
   "source": [
    "# Obtener los keypoints como un array numpy de forma (n_samples, num_keypoints, num_dimensions)\n",
    "X_keypoints = np.array([np.concatenate(df[columns].iloc[i].values).ravel() for i in range(len(df))])\n",
    "\n",
    "\n",
    "# Obtener las etiquetas\n",
    "etiquetas = df['etiqueta'].values\n",
    "\n",
    "# Codificar las etiquetas a valores numéricos\n",
    "label_encoder = LabelEncoder()\n",
    "etiquetas_codificadas = label_encoder.fit_transform(etiquetas)\n",
    "\n",
    "# Convertir las etiquetas codificadas a float32\n",
    "etiquetas_float = etiquetas_codificadas.astype(np.float32)"
   ]
  },
  {
   "cell_type": "code",
   "execution_count": 82,
   "metadata": {},
   "outputs": [],
   "source": [
    "X_train, X_test, y_train, y_test = train_test_split(X_keypoints, etiquetas_codificadas, test_size=0.2, random_state=42)\n"
   ]
  },
  {
   "cell_type": "code",
   "execution_count": 83,
   "metadata": {},
   "outputs": [],
   "source": [
    "# Separar datos de entrenamiento y prueba\n",
    "\n",
    "X_train = torch.tensor(X_train, dtype=torch.float32)"
   ]
  },
  {
   "cell_type": "code",
   "execution_count": 84,
   "metadata": {},
   "outputs": [
    {
     "name": "stderr",
     "output_type": "stream",
     "text": [
      "C:\\Users\\luisf\\AppData\\Local\\Temp\\ipykernel_31684\\3111794784.py:2: UserWarning: To copy construct from a tensor, it is recommended to use sourceTensor.clone().detach() or sourceTensor.clone().detach().requires_grad_(True), rather than torch.tensor(sourceTensor).\n",
      "  X_train = torch.tensor(X_train, dtype=torch.float32)\n"
     ]
    }
   ],
   "source": [
    "\n",
    "# Convertir a tensores de PyTorch\n",
    "X_train = torch.tensor(X_train, dtype=torch.float32)\n",
    "X_test = torch.tensor(X_test, dtype=torch.float32)\n",
    "y_train = torch.tensor(y_train, dtype=torch.long)  # Usar torch.long para las etiquetas\n",
    "y_test = torch.tensor(y_test, dtype=torch.long)\n"
   ]
  },
  {
   "cell_type": "code",
   "execution_count": 85,
   "metadata": {},
   "outputs": [],
   "source": [
    "# Definir la arquitectura del modelo Transformer\n",
    "class TransformerModel(nn.Module):\n",
    "    def __init__(self, num_keypoints, num_dimensions, embed_dim, num_heads, ff_dim, num_classes, dropout=0.1):\n",
    "        super(TransformerModel, self).__init__()\n",
    "        self.num_keypoints = num_keypoints\n",
    "        self.num_dimensions = num_dimensions\n",
    "        self.embed_dim = embed_dim\n",
    "        self.num_heads = num_heads\n",
    "        self.ff_dim = ff_dim\n",
    "        self.num_classes = num_classes\n",
    "\n",
    "        # Verificar si embed_dim es divisible por num_heads\n",
    "        assert embed_dim % num_heads == 0, \"embed_dim debe ser divisible por num_heads\"\n",
    "\n",
    "        # Capa de embeddings para los keypoints\n",
    "        self.keypoints_embedding = nn.Linear(num_keypoints * num_dimensions, embed_dim)\n",
    "\n",
    "        # Codificador Transformer\n",
    "        self.transformer_encoder = nn.TransformerEncoder(\n",
    "            nn.TransformerEncoderLayer(d_model=embed_dim, nhead=num_heads, dim_feedforward=ff_dim, dropout=dropout),\n",
    "            num_layers=1\n",
    "        )\n",
    "\n",
    "        # Capa de salida\n",
    "        self.output_layer = nn.Linear(embed_dim, num_classes)\n",
    "\n",
    "    def forward(self, x):\n",
    "        # Aplanar los keypoints\n",
    "        x = x.view(-1, self.num_keypoints * self.num_dimensions)\n",
    "\n",
    "        # Capa de embeddings lineales\n",
    "        x = self.keypoints_embedding(x)\n",
    "\n",
    "        # Ajustar la forma para el Transformer (seq_len, batch, input_size)\n",
    "        x = x.unsqueeze(1).transpose(0, 1)\n",
    "\n",
    "        # Pasar por el codificador Transformer\n",
    "        x = self.transformer_encoder(x)\n",
    "\n",
    "        # Aplanar la salida y pasar por la capa de salida\n",
    "        x = x.squeeze(0)\n",
    "        x = self.output_layer(x)\n",
    "\n",
    "        return x"
   ]
  },
  {
   "cell_type": "code",
   "execution_count": 86,
   "metadata": {},
   "outputs": [],
   "source": [
    "# Función para entrenar el modelo\n",
    "def train_model(model, criterion, optimizer, X_train, y_train, num_epochs=10, batch_size=32):\n",
    "    model.train()\n",
    "    for epoch in range(num_epochs):\n",
    "        running_loss = 0.0\n",
    "        for i in range(0, len(X_train), batch_size):\n",
    "            inputs = X_train[i:i+batch_size]\n",
    "            labels = y_train[i:i+batch_size]\n",
    "\n",
    "            optimizer.zero_grad()\n",
    "\n",
    "            outputs = model(inputs)\n",
    "            loss = criterion(outputs, labels)\n",
    "            loss.backward()\n",
    "            optimizer.step()\n",
    "\n",
    "            running_loss += loss.item()\n",
    "\n",
    "        print(f'Epoch [{epoch+1}/{num_epochs}], Loss: {running_loss / len(X_train)}')\n"
   ]
  },
  {
   "cell_type": "code",
   "execution_count": 87,
   "metadata": {},
   "outputs": [],
   "source": [
    "\n",
    "# Parámetros del modelo Transformer\n",
    "num_heads = 4  # Número de cabezas de atención en la capa MultiHeadAttention\n",
    "embed_dim = 32  # Dimensión de los embeddings, debe ser múltiplo de num_heads\n",
    "ff_dim = 64    # Dimensión de las capas feedforward\n",
    "num_classes = len(label_encoder.classes_)  # Número de clases (etiquetas únicas)"
   ]
  },
  {
   "cell_type": "code",
   "execution_count": 88,
   "metadata": {},
   "outputs": [
    {
     "name": "stderr",
     "output_type": "stream",
     "text": [
      "c:\\Users\\luisf\\AppData\\Local\\Programs\\Python\\Python311\\Lib\\site-packages\\torch\\nn\\modules\\transformer.py:306: UserWarning: enable_nested_tensor is True, but self.use_nested_tensor is False because encoder_layer.self_attn.batch_first was not True(use batch_first for better inference performance)\n",
      "  warnings.warn(f\"enable_nested_tensor is True, but self.use_nested_tensor is False because {why_not_sparsity_fast_path}\")\n"
     ]
    }
   ],
   "source": [
    "# Inicializar el modelo\n",
    "model = TransformerModel(num_keypoints=len(columns),\n",
    "                         num_dimensions=2,\n",
    "                         embed_dim=embed_dim,\n",
    "                         num_heads=num_heads,\n",
    "                         ff_dim=ff_dim,\n",
    "                         num_classes=num_classes)\n"
   ]
  },
  {
   "cell_type": "code",
   "execution_count": 89,
   "metadata": {},
   "outputs": [
    {
     "name": "stdout",
     "output_type": "stream",
     "text": [
      "TransformerModel(\n",
      "  (keypoints_embedding): Linear(in_features=30, out_features=32, bias=True)\n",
      "  (transformer_encoder): TransformerEncoder(\n",
      "    (layers): ModuleList(\n",
      "      (0): TransformerEncoderLayer(\n",
      "        (self_attn): MultiheadAttention(\n",
      "          (out_proj): NonDynamicallyQuantizableLinear(in_features=32, out_features=32, bias=True)\n",
      "        )\n",
      "        (linear1): Linear(in_features=32, out_features=64, bias=True)\n",
      "        (dropout): Dropout(p=0.1, inplace=False)\n",
      "        (linear2): Linear(in_features=64, out_features=32, bias=True)\n",
      "        (norm1): LayerNorm((32,), eps=1e-05, elementwise_affine=True)\n",
      "        (norm2): LayerNorm((32,), eps=1e-05, elementwise_affine=True)\n",
      "        (dropout1): Dropout(p=0.1, inplace=False)\n",
      "        (dropout2): Dropout(p=0.1, inplace=False)\n",
      "      )\n",
      "    )\n",
      "  )\n",
      "  (output_layer): Linear(in_features=32, out_features=8, bias=True)\n",
      ")\n"
     ]
    }
   ],
   "source": [
    "\n",
    "# Imprimir la arquitectura del modelo\n",
    "print(model)\n"
   ]
  },
  {
   "cell_type": "code",
   "execution_count": 90,
   "metadata": {},
   "outputs": [],
   "source": [
    "# Función de pérdida y optimizador\n",
    "criterion = nn.CrossEntropyLoss()\n",
    "optimizer = optim.Adam(model.parameters(), lr=0.001)"
   ]
  },
  {
   "cell_type": "code",
   "execution_count": 91,
   "metadata": {},
   "outputs": [
    {
     "name": "stdout",
     "output_type": "stream",
     "text": [
      "Epoch [1/10], Loss: 0.05989601238664374\n",
      "Epoch [2/10], Loss: 0.04827745597806913\n",
      "Epoch [3/10], Loss: 0.03970953199054061\n",
      "Epoch [4/10], Loss: 0.03501662419756451\n",
      "Epoch [5/10], Loss: 0.030917209315012736\n",
      "Epoch [6/10], Loss: 0.02679814173345613\n",
      "Epoch [7/10], Loss: 0.023472693480134095\n",
      "Epoch [8/10], Loss: 0.02119650839069564\n",
      "Epoch [9/10], Loss: 0.019759342011029968\n",
      "Epoch [10/10], Loss: 0.017474373040851508\n"
     ]
    }
   ],
   "source": [
    "\n",
    "# Entrenar el modelo\n",
    "train_model(model, criterion, optimizer, X_train, y_train, num_epochs=10)"
   ]
  },
  {
   "cell_type": "code",
   "execution_count": 92,
   "metadata": {},
   "outputs": [
    {
     "name": "stdout",
     "output_type": "stream",
     "text": [
      "Accuracy en el conjunto de prueba: 85.55%\n"
     ]
    }
   ],
   "source": [
    "\n",
    "# Evaluar el modelo\n",
    "model.eval()\n",
    "with torch.no_grad():\n",
    "    outputs = model(X_test)\n",
    "    _, predicted = torch.max(outputs, 1)\n",
    "    accuracy = (predicted == y_test).sum().item() / len(y_test)\n",
    "    print(f'Accuracy en el conjunto de prueba: {accuracy * 100:.2f}%')\n",
    "\n",
    "# Guardar el modelo\n",
    "torch.save(model.state_dict(), 'transformer_model.pth')\n"
   ]
  }
 ],
 "metadata": {
  "kernelspec": {
   "display_name": "Python 3",
   "language": "python",
   "name": "python3"
  },
  "language_info": {
   "codemirror_mode": {
    "name": "ipython",
    "version": 3
   },
   "file_extension": ".py",
   "mimetype": "text/x-python",
   "name": "python",
   "nbconvert_exporter": "python",
   "pygments_lexer": "ipython3",
   "version": "3.11.2"
  }
 },
 "nbformat": 4,
 "nbformat_minor": 2
}
